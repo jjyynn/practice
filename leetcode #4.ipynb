{
 "cells": [
  {
   "cell_type": "code",
   "execution_count": null,
   "metadata": {},
   "outputs": [],
   "source": [
    "#num1 m개 리스트로\n",
    "#num2 n개 리스트로\n",
    "#중앙값 구하기 (float)"
   ]
  },
  {
   "cell_type": "code",
   "execution_count": 76,
   "metadata": {},
   "outputs": [],
   "source": [
    "def med(num1, num2):\n",
    "    f_num = num1 + num2\n",
    "    f_nums = sorted(f_num)\n",
    "   \n",
    "    if len(f_nums) % 2 == 1:\n",
    "        return f_nums[(len(f_nums) // 2)]\n",
    "    else :\n",
    "        a = f_nums[(len(f_nums) // 2)]\n",
    "        b = f_nums[(len(f_nums) // 2) - 1]\n",
    "        return (a+b)/2"
   ]
  },
  {
   "cell_type": "code",
   "execution_count": 77,
   "metadata": {},
   "outputs": [
    {
     "data": {
      "text/plain": [
       "3.5"
      ]
     },
     "execution_count": 77,
     "metadata": {},
     "output_type": "execute_result"
    }
   ],
   "source": [
    "nums1 = [1,2,3,4]\n",
    "nums2 = [5,6]\n",
    "\n",
    "med(nums1, nums2)"
   ]
  },
  {
   "cell_type": "code",
   "execution_count": 79,
   "metadata": {},
   "outputs": [
    {
     "data": {
      "text/plain": [
       "3"
      ]
     },
     "execution_count": 79,
     "metadata": {},
     "output_type": "execute_result"
    }
   ],
   "source": [
    "nums1 = [1,3,5,6]\n",
    "nums2 = [2]\n",
    "\n",
    "med(nums1, nums2)\n"
   ]
  }
 ],
 "metadata": {
  "kernelspec": {
   "display_name": "Python 3",
   "language": "python",
   "name": "python3"
  },
  "language_info": {
   "codemirror_mode": {
    "name": "ipython",
    "version": 3
   },
   "file_extension": ".py",
   "mimetype": "text/x-python",
   "name": "python",
   "nbconvert_exporter": "python",
   "pygments_lexer": "ipython3",
   "version": "3.8.5"
  }
 },
 "nbformat": 4,
 "nbformat_minor": 4
}
