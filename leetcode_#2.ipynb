{
 "cells": [
  {
   "cell_type": "code",
   "execution_count": 1,
   "metadata": {},
   "outputs": [],
   "source": [
    "def twosum(l1,l2):\n",
    "    a_list = []\n",
    "    b_list = []\n",
    "    return_list = []\n",
    "        \n",
    "    for i in l1 :\n",
    "        a = i * (10 ** int(l1.index(i)))\n",
    "        a_list.append(a)\n",
    "        a_sum = sum(a_list)\n",
    "    for ii in l2 :\n",
    "        b = ii * (10 ** int(l2.index(ii)))\n",
    "        b_list.append(b)\n",
    "        b_sum = sum(b_list)\n",
    "        \n",
    "    return_sum = str(a_sum + b_sum)\n",
    "        \n",
    "    for s in range(len(str(a_sum + b_sum))):\n",
    "        return_list.insert(0,int(return_sum[s]))\n",
    "        \n",
    "    return return_list"
   ]
  },
  {
   "cell_type": "code",
   "execution_count": 2,
   "metadata": {},
   "outputs": [
    {
     "data": {
      "text/plain": [
       "[5, 5, 6, 6]"
      ]
     },
     "execution_count": 2,
     "metadata": {},
     "output_type": "execute_result"
    }
   ],
   "source": [
    "l1 = [1,0,0,6]\n",
    "l2 = [4,5,6]\n",
    "twosum(l1, l2)"
   ]
  },
  {
   "cell_type": "code",
   "execution_count": 3,
   "metadata": {},
   "outputs": [
    {
     "data": {
      "text/plain": [
       "[0]"
      ]
     },
     "execution_count": 3,
     "metadata": {},
     "output_type": "execute_result"
    }
   ],
   "source": [
    "l1 = [0]\n",
    "l2 = [0]\n",
    "twosum(l1,l2)"
   ]
  }
 ],
 "metadata": {
  "kernelspec": {
   "display_name": "Python 3",
   "language": "python",
   "name": "python3"
  },
  "language_info": {
   "codemirror_mode": {
    "name": "ipython",
    "version": 3
   },
   "file_extension": ".py",
   "mimetype": "text/x-python",
   "name": "python",
   "nbconvert_exporter": "python",
   "pygments_lexer": "ipython3",
   "version": "3.8.5"
  }
 },
 "nbformat": 4,
 "nbformat_minor": 4
}
